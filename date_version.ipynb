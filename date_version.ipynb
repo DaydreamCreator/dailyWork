{
 "cells": [
  {
   "cell_type": "code",
   "execution_count": null,
   "id": "851f1320-5ae7-49ff-b10a-699efda1a948",
   "metadata": {},
   "outputs": [],
   "source": []
  },
  {
   "cell_type": "code",
   "execution_count": 23,
   "id": "7fd6b72f-1228-4f19-901a-87283854e353",
   "metadata": {},
   "outputs": [],
   "source": [
    "def sort_and_merge(intervals):\n",
    "    # sort the interval list by the first element\n",
    "    intervals = sorted(intervals, key=lambda x: x[0])\n",
    "    merged = []\n",
    "    for interval in intervals:\n",
    "        # if merged is empty or non-overlapping, just add\n",
    "        if not merged or merged[-1][1] < interval[0]:\n",
    "            merged.append(interval)\n",
    "        else: # update the last interval if overlapped\n",
    "            merged[-1][1] = max(merged[-1][1], interval[1])\n",
    "    #print(merged)\n",
    "    return merged"
   ]
  },
  {
   "cell_type": "code",
   "execution_count": 24,
   "id": "96281822-ed39-4c5e-9d33-f52f32510669",
   "metadata": {},
   "outputs": [],
   "source": [
    "f = sort_and_merge\n",
    "assert f([[0, 3], [2, 13], [25, 28], [15, 40]]) == [[0, 13] , [15, 40]]\n",
    "assert f([[1, 3], [0, 6], [11, 22], [7, 38]]) == [[0, 6] ,[7, 38]]\n"
   ]
  },
  {
   "cell_type": "code",
   "execution_count": 27,
   "id": "356f7c39-1e7e-40b1-bd69-640b2e3dc625",
   "metadata": {},
   "outputs": [],
   "source": [
    "from datetime import datetime, date, timedelta\n",
    "time_1 = datetime(2024, 11, 20, 9, 0, 0)\n",
    "interval_1 = [time_1, time_1 + timedelta(minutes=30)]\n",
    "interval_2 = [time_1 + timedelta(minutes=40), time_1 + timedelta(minutes=60)]\n",
    "assert interval_1[1] < interval_2[0]"
   ]
  },
  {
   "cell_type": "code",
   "execution_count": 28,
   "id": "2dc88949-4c19-48da-b521-0e782e719248",
   "metadata": {},
   "outputs": [],
   "source": [
    "# generate sample records for testing\n",
    "def generate_sample():\n",
    "    \"\"\"\n",
    "    Generate sample records for testing\n",
    "\n",
    "    Returns:\n",
    "        opening: dict, dictionary containing times when the doctor is available to take patients\n",
    "        appointment: dict, dictionary containing times when the doctor is not available \n",
    "    \"\"\"\n",
    "    opening = {}\n",
    "    appointment = {}\n",
    "\n",
    "    # generate opening sample\n",
    "    morning_begin = datetime(2024, 11, 20, 9, 0, 0)\n",
    "    morning_end = datetime(2024, 11, 20, 11, 30, 0)\n",
    "    afternoon_begin = datetime(2024, 11, 20, 13, 0, 0)\n",
    "    afternoon_end = datetime(2024, 11, 20, 16, 00, 0)\n",
    "    for i in range(10):\n",
    "        element = []\n",
    "        element.append((morning_begin + timedelta(days=i+1), morning_end + timedelta(days=i+1)))\n",
    "        element.append((afternoon_begin + timedelta(days=i+1), afternoon_end + timedelta(days=i+1)))\n",
    "        opening[(morning_begin + timedelta(days=i+1)).date()] = element\n",
    "\n",
    "    # generate appointment sample\n",
    "    for i in range(10):\n",
    "        element = []\n",
    "        morning_begin = morning_begin + timedelta(days=1)\n",
    "        afternoon_begin = afternoon_begin + timedelta(days=1)\n",
    "        morning_from = morning_begin + timedelta(hours = 1)\n",
    "        afternoon_from_1 = afternoon_begin + timedelta(hours = 0)\n",
    "        afternoon_from_2 = afternoon_begin + timedelta(hours = 1)\n",
    "        \n",
    "        element.append((morning_from, morning_from + timedelta(minutes = 30)))\n",
    "        element.append((afternoon_from_1, afternoon_from_1 + timedelta(minutes = 30)))\n",
    "        element.append((afternoon_from_2, afternoon_from_2 + timedelta(minutes = 50)))\n",
    "        appointment[(morning_begin).date()] = element\n",
    "    return opening, appointment"
   ]
  },
  {
   "cell_type": "code",
   "execution_count": 30,
   "id": "011ccbcd-8043-440d-a259-5358a23da19a",
   "metadata": {},
   "outputs": [],
   "source": [
    "opening, appointment = generate_sample()"
   ]
  },
  {
   "cell_type": "code",
   "execution_count": 33,
   "id": "62457354-2097-41b0-81c6-9919930c61b2",
   "metadata": {},
   "outputs": [],
   "source": [
    "# 1. sort and merge interval if overlapped by per day\n",
    "merged_open = {}\n",
    "merged_appoint = {}\n",
    "for key, value in opening.items():\n",
    "    merged_open[key] = sort_and_merge(value)\n",
    "\n",
    "for key, value in appointment.items():\n",
    "    merged_appoint[key] = sort_and_merge(value)\n"
   ]
  },
  {
   "cell_type": "code",
   "execution_count": 46,
   "id": "13261118-b04a-4c7b-bc1b-be9c25f929d4",
   "metadata": {},
   "outputs": [
    {
     "data": {
      "text/plain": [
       "{datetime.date(2024, 11, 21): [(datetime.datetime(2024, 11, 21, 9, 0),\n",
       "   datetime.datetime(2024, 11, 21, 11, 30)),\n",
       "  (datetime.datetime(2024, 11, 21, 13, 0),\n",
       "   datetime.datetime(2024, 11, 21, 16, 0))],\n",
       " datetime.date(2024, 11, 22): [(datetime.datetime(2024, 11, 22, 9, 0),\n",
       "   datetime.datetime(2024, 11, 22, 11, 30)),\n",
       "  (datetime.datetime(2024, 11, 22, 13, 0),\n",
       "   datetime.datetime(2024, 11, 22, 16, 0))],\n",
       " datetime.date(2024, 11, 23): [(datetime.datetime(2024, 11, 23, 9, 0),\n",
       "   datetime.datetime(2024, 11, 23, 11, 30)),\n",
       "  (datetime.datetime(2024, 11, 23, 13, 0),\n",
       "   datetime.datetime(2024, 11, 23, 16, 0))],\n",
       " datetime.date(2024, 11, 24): [(datetime.datetime(2024, 11, 24, 9, 0),\n",
       "   datetime.datetime(2024, 11, 24, 11, 30)),\n",
       "  (datetime.datetime(2024, 11, 24, 13, 0),\n",
       "   datetime.datetime(2024, 11, 24, 16, 0))],\n",
       " datetime.date(2024, 11, 25): [(datetime.datetime(2024, 11, 25, 9, 0),\n",
       "   datetime.datetime(2024, 11, 25, 11, 30)),\n",
       "  (datetime.datetime(2024, 11, 25, 13, 0),\n",
       "   datetime.datetime(2024, 11, 25, 16, 0))],\n",
       " datetime.date(2024, 11, 26): [(datetime.datetime(2024, 11, 26, 9, 0),\n",
       "   datetime.datetime(2024, 11, 26, 11, 30)),\n",
       "  (datetime.datetime(2024, 11, 26, 13, 0),\n",
       "   datetime.datetime(2024, 11, 26, 16, 0))],\n",
       " datetime.date(2024, 11, 27): [(datetime.datetime(2024, 11, 27, 9, 0),\n",
       "   datetime.datetime(2024, 11, 27, 11, 30)),\n",
       "  (datetime.datetime(2024, 11, 27, 13, 0),\n",
       "   datetime.datetime(2024, 11, 27, 16, 0))],\n",
       " datetime.date(2024, 11, 28): [(datetime.datetime(2024, 11, 28, 9, 0),\n",
       "   datetime.datetime(2024, 11, 28, 11, 30)),\n",
       "  (datetime.datetime(2024, 11, 28, 13, 0),\n",
       "   datetime.datetime(2024, 11, 28, 16, 0))],\n",
       " datetime.date(2024, 11, 29): [(datetime.datetime(2024, 11, 29, 9, 0),\n",
       "   datetime.datetime(2024, 11, 29, 11, 30)),\n",
       "  (datetime.datetime(2024, 11, 29, 13, 0),\n",
       "   datetime.datetime(2024, 11, 29, 16, 0))],\n",
       " datetime.date(2024, 11, 30): [(datetime.datetime(2024, 11, 30, 9, 0),\n",
       "   datetime.datetime(2024, 11, 30, 11, 30)),\n",
       "  (datetime.datetime(2024, 11, 30, 13, 0),\n",
       "   datetime.datetime(2024, 11, 30, 16, 0))]}"
      ]
     },
     "execution_count": 46,
     "metadata": {},
     "output_type": "execute_result"
    }
   ],
   "source": [
    "merged_open"
   ]
  },
  {
   "cell_type": "code",
   "execution_count": 35,
   "id": "f9fe024c-5a60-43db-a64b-6b07cba17194",
   "metadata": {},
   "outputs": [],
   "source": [
    "# 2. substract the intersection of two intervals\n",
    "# based on the assumption: end > start, appointment is subset of opening\n",
    "def subtract_two_intervals(interval_opening, interval_appoint):\n",
    "    if interval_opening[0] < interval_appoint[0]:    \n",
    "       if interval_opening[1] == interval_appoint[1]:    # (3), same end, differ start\n",
    "           return [[interval_opening[0], interval_appoint[0]]]\n",
    "       else:\n",
    "           return [[interval_opening[0], interval_appoint[0]], [interval_appoint[1], interval_opening[1]]]\n",
    "    else:  # same start \n",
    "        if interval_opening[1] == interval_appoint[1]:   # (1), same end\n",
    "            return [[]]\n",
    "        else:\n",
    "            return [[interval_appoint[1], interval_opening[1]]]  # (2), differ end\n",
    "        "
   ]
  },
  {
   "cell_type": "code",
   "execution_count": 49,
   "id": "86479e7a-8ee4-4b0d-8254-a73f5f3242f9",
   "metadata": {},
   "outputs": [],
   "source": [
    "# 3. get the availability\n",
    "# 2. subtract the appointment time from the merged intervals\n",
    "def nobug_subtract(opening, appointment):\n",
    "    \"\"\"\n",
    "    Subtract the appointed time from the opening time\n",
    "\n",
    "    Args:\n",
    "        opening: 2-d list: [[x, y]]\n",
    "        appointment: 2-d list: [[x, y]]\n",
    "\n",
    "    Returns:\n",
    "        available: 2d list\n",
    "    \"\"\"\n",
    "    available = []\n",
    "    # sort and merge overlapped time interval\n",
    "    opening = sort_and_merge(opening)\n",
    "    appointment = sort_and_merge(appointment)\n",
    "    #print(opening, appointment)\n",
    "    # interate and update\n",
    "    #myopening = iter(opening)\n",
    "    opening_ind = 0\n",
    "    # Done bug, since the length is not write\n",
    "    appoint_ind = 0\n",
    "    while appoint_ind < len(appointment):\n",
    "        appoint = appointment[appoint_ind]\n",
    "        if not available or (available[-1][1] < appoint[0]):\n",
    "            print(opening_ind)\n",
    "            available.append(opening[opening_ind])\n",
    "            opening_ind += 1\n",
    "        else:\n",
    "            res_interval = subtract_two_intervals(available[-1], appoint)\n",
    "            appoint_ind += 1\n",
    "            if res_interval != [[]]:\n",
    "                available = available[:-1] + res_interval\n",
    "            else:\n",
    "                #print(\"here\", available[:-1])\n",
    "                available = available[:-1]\n",
    "    while opening_ind < len(opening):\n",
    "        available.append(opening[opening_ind])\n",
    "        opening_ind +=1\n",
    "    return available"
   ]
  },
  {
   "cell_type": "code",
   "execution_count": 50,
   "id": "007393d2-9203-46f5-b68d-6a5882a67173",
   "metadata": {},
   "outputs": [
    {
     "name": "stdout",
     "output_type": "stream",
     "text": [
      "0\n",
      "1\n",
      "0\n",
      "1\n"
     ]
    }
   ],
   "source": [
    "count = 0\n",
    "available = {}\n",
    "for date in merged_open.keys():\n",
    "    if count > 1:\n",
    "        break\n",
    "    available[date] = nobug_subtract(merged_open[key], merged_appoint[key])\n",
    "    count+=1"
   ]
  },
  {
   "cell_type": "code",
   "execution_count": 51,
   "id": "48fb67f1-dd68-488d-828a-d35686acf7fe",
   "metadata": {},
   "outputs": [
    {
     "data": {
      "text/plain": [
       "{datetime.date(2024, 11, 21): [[datetime.datetime(2024, 11, 30, 9, 0),\n",
       "   datetime.datetime(2024, 11, 30, 10, 0)],\n",
       "  [datetime.datetime(2024, 11, 30, 10, 30),\n",
       "   datetime.datetime(2024, 11, 30, 11, 30)],\n",
       "  [datetime.datetime(2024, 11, 30, 13, 30),\n",
       "   datetime.datetime(2024, 11, 30, 14, 0)],\n",
       "  [datetime.datetime(2024, 11, 30, 14, 50),\n",
       "   datetime.datetime(2024, 11, 30, 16, 0)]],\n",
       " datetime.date(2024, 11, 22): [[datetime.datetime(2024, 11, 30, 9, 0),\n",
       "   datetime.datetime(2024, 11, 30, 10, 0)],\n",
       "  [datetime.datetime(2024, 11, 30, 10, 30),\n",
       "   datetime.datetime(2024, 11, 30, 11, 30)],\n",
       "  [datetime.datetime(2024, 11, 30, 13, 30),\n",
       "   datetime.datetime(2024, 11, 30, 14, 0)],\n",
       "  [datetime.datetime(2024, 11, 30, 14, 50),\n",
       "   datetime.datetime(2024, 11, 30, 16, 0)]]}"
      ]
     },
     "execution_count": 51,
     "metadata": {},
     "output_type": "execute_result"
    }
   ],
   "source": [
    "available"
   ]
  },
  {
   "cell_type": "code",
   "execution_count": null,
   "id": "118dae6d-ad8e-4a0d-905f-e4985a359545",
   "metadata": {},
   "outputs": [],
   "source": []
  }
 ],
 "metadata": {
  "kernelspec": {
   "display_name": "Python 3 (ipykernel)",
   "language": "python",
   "name": "python3"
  },
  "language_info": {
   "codemirror_mode": {
    "name": "ipython",
    "version": 3
   },
   "file_extension": ".py",
   "mimetype": "text/x-python",
   "name": "python",
   "nbconvert_exporter": "python",
   "pygments_lexer": "ipython3",
   "version": "3.10.5"
  }
 },
 "nbformat": 4,
 "nbformat_minor": 5
}
