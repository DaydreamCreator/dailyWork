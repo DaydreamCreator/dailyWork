{
 "cells": [
  {
   "cell_type": "code",
   "execution_count": 13,
   "id": "d3904a80-52a6-4372-9038-4b59983bc4fb",
   "metadata": {},
   "outputs": [],
   "source": [
    "a = [2,5]"
   ]
  },
  {
   "cell_type": "code",
   "execution_count": 67,
   "id": "663b5815-8dd2-4d21-8ee9-0a9a2e6d4343",
   "metadata": {},
   "outputs": [
    {
     "ename": "TypeError",
     "evalue": "'list' object cannot be interpreted as an integer",
     "output_type": "error",
     "traceback": [
      "\u001b[1;31m---------------------------------------------------------------------------\u001b[0m",
      "\u001b[1;31mTypeError\u001b[0m                                 Traceback (most recent call last)",
      "Cell \u001b[1;32mIn[67], line 1\u001b[0m\n\u001b[1;32m----> 1\u001b[0m \u001b[38;5;28;01mif\u001b[39;00m \u001b[38;5;241m2\u001b[39m \u001b[38;5;129;01min\u001b[39;00m \u001b[38;5;28;43mrange\u001b[39;49m\u001b[43m(\u001b[49m\u001b[43m[\u001b[49m\u001b[38;5;241;43m2\u001b[39;49m\u001b[43m,\u001b[49m\u001b[38;5;241;43m3\u001b[39;49m\u001b[43m]\u001b[49m\u001b[43m)\u001b[49m:\n\u001b[0;32m      2\u001b[0m     \u001b[38;5;28mprint\u001b[39m(\u001b[38;5;124m\"\u001b[39m\u001b[38;5;124myes\u001b[39m\u001b[38;5;124m\"\u001b[39m)\n",
      "\u001b[1;31mTypeError\u001b[0m: 'list' object cannot be interpreted as an integer"
     ]
    }
   ],
   "source": [
    "if 2 in range([2,3]):\n",
    "    print(\"yes\")"
   ]
  },
  {
   "cell_type": "code",
   "execution_count": 18,
   "id": "a401007b-a425-4630-bacf-c31c6d8f7df2",
   "metadata": {},
   "outputs": [],
   "source": [
    "def get_availability(occupied, intervals):\n",
    "    res = []\n",
    "    for pair in occupied:\n",
    "        start = pair[0]\n",
    "        end = pair[1]\n",
    "        for interval in intervals:\n",
    "            if start in range(interval[0], interval[1]) and end in range(interval[0], interval[1]):\n",
    "                if interval[0]< start:\n",
    "                    res.append([interval[0], start])\n",
    "                if end < interval[1]:\n",
    "                    res.append([end, interval[1]])\n",
    "                break\n",
    "    \n",
    "    return res"
   ]
  },
  {
   "cell_type": "code",
   "execution_count": 209,
   "id": "5b1bb39d-d8a9-41f2-aebf-392ea283f826",
   "metadata": {},
   "outputs": [],
   "source": [
    "intervals = [[1,9],[10,20]]\n",
    "occupied = [[1,2],[19,20],[3, 5],[7,9],[10,11],[13,18]]\n",
    "#occupied.sort(key=lambda x:x[0])  #\n",
    "#intervals.sort(key=lambda x:x[0])\n",
    "#occupied"
   ]
  },
  {
   "cell_type": "code",
   "execution_count": 47,
   "id": "3878f99a-7524-45de-9728-cb4294d3334a",
   "metadata": {},
   "outputs": [],
   "source": [
    "# 1. merge the interval of occupied slot\n",
    "def merge_interval(interval_list):\n",
    "    \"\"\"\n",
    "    Merge the interval list of [[x, y]]\n",
    "\n",
    "    Args: \n",
    "        interval_list: list[[x, y]]\n",
    "\n",
    "    Returns:\n",
    "        merged_list: list[[x, y]]\n",
    "    \"\"\"\n",
    "    # sort the interval list by the first element\n",
    "    interval_list.sort(key=lambda x:x[0])\n",
    "\n",
    "    merged = []\n",
    "    for interval in interval_list:\n",
    "        if not merged or merged[-1][1] < interval[0]:   #  interval not overlapping\n",
    "            merged.append(interval)\n",
    "        else:                                           # interval overlapped\n",
    "            merged[-1][1] = max(merged[-1][1], interval[1])\n",
    "    return merged"
   ]
  },
  {
   "cell_type": "code",
   "execution_count": null,
   "id": "92fb741f-f0ac-404e-8387-fbb74c8e6b3c",
   "metadata": {},
   "outputs": [],
   "source": [
    "#[1, 9], [1, 6]  => [6, 9]  (1)\n",
    "#[1, 9], [1, 9] => [] (2)\n",
    "#[1, 9], [5, 9]  => [1, 5] (3)\n",
    "#[1, 9], [2, 5]  => [1, 2], [5, 9]"
   ]
  },
  {
   "cell_type": "code",
   "execution_count": 327,
   "id": "909f5187-1da2-49e7-9345-d08eb953d676",
   "metadata": {},
   "outputs": [],
   "source": [
    "# based on the assumption\n",
    "def subtract_two_intervals(interval_opening, interval_appoint):\n",
    "    if interval_opening[0] < interval_appoint[0]:    \n",
    "       if interval_opening[1] == interval_appoint[1]:    # (3), same end, differ start\n",
    "           return [[interval_opening[0], interval_appoint[0]]]\n",
    "       else:\n",
    "           return [[interval_opening[0], interval_appoint[0]], [interval_appoint[1], interval_opening[1]]]\n",
    "    else:  # same start \n",
    "        if interval_opening[1] == interval_appoint[1]:   # (1), same end\n",
    "            return [[]]\n",
    "        else:\n",
    "            return [[interval_appoint[1], interval_opening[1]]]  # (2), differ end\n",
    "        "
   ]
  },
  {
   "cell_type": "code",
   "execution_count": 228,
   "id": "8c6d444c-a972-4a60-b5bf-313db6917df3",
   "metadata": {},
   "outputs": [
    {
     "data": {
      "text/plain": [
       "'\\nintervals = [[1,9],[10,20], [21, 22], [23,25]]\\noccupied = [[1,2],[19,20],[3, 5],[7,9],[10,11],[11,18], [21,22]]\\n'"
      ]
     },
     "execution_count": 228,
     "metadata": {},
     "output_type": "execute_result"
    }
   ],
   "source": [
    "\"\"\"\n",
    "intervals = [[1,9],[10,20], [21, 22], [23,25]]\n",
    "occupied = [[1,2],[19,20],[3, 5],[7,9],[10,11],[11,18], [21,22]]\n",
    "\"\"\"\n",
    "#occupied.sort(key=lambda x:x[0])  #\n",
    "#intervals.sort(key=lambda x:x[0])\n",
    "#occupied"
   ]
  },
  {
   "cell_type": "code",
   "execution_count": 355,
   "id": "6fb4ebe6-1744-4be5-967d-bae166dd745f",
   "metadata": {},
   "outputs": [
    {
     "data": {
      "text/plain": [
       "[[1, 2], [3, 9], [10, 20], [21, 22], [23, 25]]"
      ]
     },
     "execution_count": 355,
     "metadata": {},
     "output_type": "execute_result"
    }
   ],
   "source": [
    "intervals"
   ]
  },
  {
   "cell_type": "code",
   "execution_count": 242,
   "id": "4ffc68a7-9f1d-4b60-8c3d-7ab6784feab5",
   "metadata": {},
   "outputs": [
    {
     "data": {
      "text/plain": [
       "[[1, 2], [19, 20], [3, 5], [7, 9], [10, 11], [11, 18], [21, 22]]"
      ]
     },
     "execution_count": 242,
     "metadata": {},
     "output_type": "execute_result"
    }
   ],
   "source": [
    "occupied"
   ]
  },
  {
   "cell_type": "code",
   "execution_count": 358,
   "id": "ec374942-d038-48a3-9c1b-81e821e32e7e",
   "metadata": {},
   "outputs": [],
   "source": [
    "# 2. subtract the appointment time from the merged intervals\n",
    "def bugged_subtract(opening, appointment):\n",
    "    \"\"\"\n",
    "    Subtract the appointed time from the opening time\n",
    "\n",
    "    Args:\n",
    "        opening: 2-d list: [[x, y]]\n",
    "        appointment: 2-d list: [[x, y]]\n",
    "\n",
    "    Returns:\n",
    "        available: 2d list\n",
    "    \"\"\"\n",
    "    available = []\n",
    "    # sort and merge overlapped time interval\n",
    "    opening = merge_interval(opening)\n",
    "    appointment = merge_interval(appointment)\n",
    "    print(opening, appointment)\n",
    "    # interate and update\n",
    "    #myopening = iter(opening)\n",
    "    opening_ind = 0\n",
    "    # TODO bug, since the length is not write\n",
    "    for appoint in appointment:\n",
    "        if not available or (available[-1][1] < appoint[0] and opening_ind < len(opening) - 1):\n",
    "            print(opening_ind)\n",
    "            available.append(opening[opening_ind])\n",
    "            opening_ind += 1\n",
    "        \n",
    "        res_interval = subtract_two_intervals(available[-1], appoint)\n",
    "        if res_interval != [[]]:\n",
    "            available = available[:-1] + res_interval\n",
    "        else:\n",
    "            #print(\"here\", available[:-1])\n",
    "            available = available[:-1]\n",
    "    while opening_ind < len(opening):\n",
    "        available.append(opening[opening_ind])\n",
    "        opening_ind +=1\n",
    "    return available"
   ]
  },
  {
   "cell_type": "code",
   "execution_count": 376,
   "id": "56f0d49e-4c50-407a-ac96-96cf616bb5f1",
   "metadata": {},
   "outputs": [],
   "source": [
    "# 2. subtract the appointment time from the merged intervals\n",
    "def nobug_subtract(opening, appointment):\n",
    "    \"\"\"\n",
    "    Subtract the appointed time from the opening time\n",
    "\n",
    "    Args:\n",
    "        opening: 2-d list: [[x, y]]\n",
    "        appointment: 2-d list: [[x, y]]\n",
    "\n",
    "    Returns:\n",
    "        available: 2d list\n",
    "    \"\"\"\n",
    "    available = []\n",
    "    # sort and merge overlapped time interval\n",
    "    opening = merge_interval(opening)\n",
    "    appointment = merge_interval(appointment)\n",
    "    print(opening, appointment)\n",
    "    # interate and update\n",
    "    #myopening = iter(opening)\n",
    "    opening_ind = 0\n",
    "    # Done bug, since the length is not write\n",
    "    appoint_ind = 0\n",
    "    while appoint_ind < len(appointment):\n",
    "        appoint = appointment[appoint_ind]\n",
    "        if not available or (available[-1][1] < appoint[0] and opening_ind < len(opening) - 1):\n",
    "            print(opening_ind)\n",
    "            available.append(opening[opening_ind])\n",
    "            opening_ind += 1\n",
    "        else:\n",
    "            res_interval = subtract_two_intervals(available[-1], appoint)\n",
    "            appoint_ind += 1\n",
    "            if res_interval != [[]]:\n",
    "                available = available[:-1] + res_interval\n",
    "            else:\n",
    "                #print(\"here\", available[:-1])\n",
    "                available = available[:-1]\n",
    "    while opening_ind < len(opening):\n",
    "        available.append(opening[opening_ind])\n",
    "        opening_ind +=1\n",
    "    return available"
   ]
  },
  {
   "cell_type": "code",
   "execution_count": 342,
   "id": "340f971e-e26e-4a10-973f-76bb1485a4d9",
   "metadata": {},
   "outputs": [],
   "source": [
    "# 2. subtract the appointment time from the merged intervals\n",
    "def improved(opening, appointment):\n",
    "    \"\"\"\n",
    "    Subtract the appointed time from the opening time\n",
    "\n",
    "    Args:\n",
    "        opening: 2-d list: [[x, y]]\n",
    "        appointment: 2-d list: [[x, y]]\n",
    "\n",
    "    Returns:\n",
    "        available: 2d list\n",
    "    \"\"\"\n",
    "    available = []\n",
    "    # sort and merge overlapped time interval\n",
    "    opening = merge_interval(opening)\n",
    "    appointment = merge_interval(appointment)\n",
    "    print(opening, appointment)\n",
    "    # interate and update\n",
    "    myopening = iter(opening)\n",
    "    #opening_ind = 0\n",
    "    for appoint in appointment:\n",
    "        if not available or available[-1][1] < appoint[0]:\n",
    "            #print(opening_ind)\n",
    "            available.append(next(myopening))\n",
    "            #opening_ind += 1\n",
    "            \n",
    "        res_interval = subtract_two_intervals(available[-1], appoint)\n",
    "        print(res_interval)\n",
    "        #available = available[:-1] + res_interval if not res_interval else available\n",
    "        if res_interval != [[]]:\n",
    "            available = available[:-1] + res_interval\n",
    "        else:\n",
    "            #print(\"here\", available[:-1])\n",
    "            available = available[:-1]\n",
    "    #while ele := next(myopening):\n",
    "    #    available.append(ele)\n",
    "    #    opening_ind +=1\n",
    "    return available"
   ]
  },
  {
   "cell_type": "code",
   "execution_count": 377,
   "id": "fd62d9e2-9510-4d28-9919-7be58f913d4e",
   "metadata": {},
   "outputs": [],
   "source": [
    "intervals = [[1,2],[2,3], [4,9],[10,20], [21, 22], [22, 22.5],[23,25]]\n",
    "occupied = [[19,20],[4, 5],[7,9],[10,11],[11,18], [21,22]]\n",
    "#occupied.sort(key=lambda x:x[0])  #\n",
    "#intervals.sort(key=lambda x:x[0])\n",
    "#occupied"
   ]
  },
  {
   "cell_type": "code",
   "execution_count": 378,
   "id": "9309479b-be59-4c0c-8cd7-4ae913a6931a",
   "metadata": {},
   "outputs": [
    {
     "name": "stdout",
     "output_type": "stream",
     "text": [
      "[[1, 3], [4, 9], [10, 20], [21, 22.5], [23, 25]] [[4, 5], [7, 9], [10, 18], [19, 20], [21, 22]]\n",
      "0\n",
      "1\n",
      "2\n",
      "3\n"
     ]
    },
    {
     "ename": "IndexError",
     "evalue": "list index out of range",
     "output_type": "error",
     "traceback": [
      "\u001b[1;31m---------------------------------------------------------------------------\u001b[0m",
      "\u001b[1;31mIndexError\u001b[0m                                Traceback (most recent call last)",
      "Cell \u001b[1;32mIn[378], line 1\u001b[0m\n\u001b[1;32m----> 1\u001b[0m ava \u001b[38;5;241m=\u001b[39m \u001b[43mnobug_subtract\u001b[49m\u001b[43m(\u001b[49m\u001b[43mintervals\u001b[49m\u001b[43m,\u001b[49m\u001b[43m \u001b[49m\u001b[43moccupied\u001b[49m\u001b[43m)\u001b[49m   \u001b[38;5;66;03m# todo Merged modified\u001b[39;00m\n\u001b[0;32m      2\u001b[0m ava\n",
      "Cell \u001b[1;32mIn[376], line 24\u001b[0m, in \u001b[0;36mnobug_subtract\u001b[1;34m(opening, appointment)\u001b[0m\n\u001b[0;32m     22\u001b[0m appoint_ind \u001b[38;5;241m=\u001b[39m \u001b[38;5;241m0\u001b[39m\n\u001b[0;32m     23\u001b[0m \u001b[38;5;28;01mwhile\u001b[39;00m appoint_ind \u001b[38;5;241m<\u001b[39m \u001b[38;5;28mlen\u001b[39m(appointment) \u001b[38;5;129;01mor\u001b[39;00m opening_ind \u001b[38;5;241m<\u001b[39m \u001b[38;5;28mlen\u001b[39m(opening):\n\u001b[1;32m---> 24\u001b[0m     appoint \u001b[38;5;241m=\u001b[39m \u001b[43mappointment\u001b[49m\u001b[43m[\u001b[49m\u001b[43mappoint_ind\u001b[49m\u001b[43m]\u001b[49m\n\u001b[0;32m     25\u001b[0m     \u001b[38;5;28;01mif\u001b[39;00m \u001b[38;5;129;01mnot\u001b[39;00m available \u001b[38;5;129;01mor\u001b[39;00m (available[\u001b[38;5;241m-\u001b[39m\u001b[38;5;241m1\u001b[39m][\u001b[38;5;241m1\u001b[39m] \u001b[38;5;241m<\u001b[39m appoint[\u001b[38;5;241m0\u001b[39m] \u001b[38;5;129;01mand\u001b[39;00m opening_ind \u001b[38;5;241m<\u001b[39m \u001b[38;5;28mlen\u001b[39m(opening) \u001b[38;5;241m-\u001b[39m \u001b[38;5;241m1\u001b[39m):\n\u001b[0;32m     26\u001b[0m         \u001b[38;5;28mprint\u001b[39m(opening_ind)\n",
      "\u001b[1;31mIndexError\u001b[0m: list index out of range"
     ]
    }
   ],
   "source": [
    "ava = nobug_subtract(intervals, occupied)   # todo Merged modified\n",
    "ava"
   ]
  },
  {
   "cell_type": "code",
   "execution_count": 351,
   "id": "4a9d0de7-4546-411b-8fb2-758b70c7d695",
   "metadata": {},
   "outputs": [
    {
     "data": {
      "text/plain": [
       "[[2, 3], [5, 7], [18, 19], [23, 25]]"
      ]
     },
     "execution_count": 351,
     "metadata": {},
     "output_type": "execute_result"
    }
   ],
   "source": [
    "ava"
   ]
  },
  {
   "cell_type": "code",
   "execution_count": 346,
   "id": "12afb64b-3c87-44e0-8a9f-ce8260e8477f",
   "metadata": {},
   "outputs": [
    {
     "name": "stdout",
     "output_type": "stream",
     "text": [
      "[[1, 9], [10, 20], [21, 22], [23, 25]] [[1, 2], [3, 5], [7, 9], [10, 18], [19, 20], [21, 22]]\n",
      "[[2, 9]]\n",
      "[[2, 3], [5, 9]]\n",
      "[[5, 7]]\n",
      "[[18, 20]]\n",
      "[[18, 19]]\n",
      "[[]]\n"
     ]
    },
    {
     "data": {
      "text/plain": [
       "[[2, 3], [5, 7], [18, 19]]"
      ]
     },
     "execution_count": 346,
     "metadata": {},
     "output_type": "execute_result"
    }
   ],
   "source": [
    "bvb = improved(intervals, occupied)\n",
    "bvb"
   ]
  },
  {
   "cell_type": "code",
   "execution_count": null,
   "id": "317d753c-2642-43a4-8a33-012713daae50",
   "metadata": {},
   "outputs": [],
   "source": []
  },
  {
   "cell_type": "code",
   "execution_count": 315,
   "id": "72650db2-01d8-4b5e-85cf-25bfda4745b3",
   "metadata": {},
   "outputs": [
    {
     "data": {
      "text/plain": [
       "[[1, 2], [3, 5], [7, 9], [10, 18], [19, 20], [3, 2]]"
      ]
     },
     "execution_count": 315,
     "metadata": {},
     "output_type": "execute_result"
    }
   ],
   "source": [
    "s = [[1, 2], [3, 5], [7, 9], [10, 18], [19, 20], [21, 22]]\n",
    "s = s[:-1] + [[3,2]] if not None else s[:-1]\n",
    "s"
   ]
  },
  {
   "cell_type": "code",
   "execution_count": 91,
   "id": "664a4a15-bb08-4086-82ad-c02c644e321e",
   "metadata": {},
   "outputs": [],
   "source": [
    "# 2. subtract the appointment time from the merged intervals\n",
    "def subtract_interval(opening, appointment):\n",
    "    \"\"\"\n",
    "    Subtract the appointed time from the opening time\n",
    "\n",
    "    Args:\n",
    "        opening: 2-d list: [[x, y]]\n",
    "        appointment: 2-d list: [[x, y]]\n",
    "\n",
    "    Returns:\n",
    "        available: 2d list\n",
    "    \"\"\"\n",
    "    available = []\n",
    "\n",
    "    # sort and merge overlapped time interval\n",
    "    opening = merge_interval(opening)\n",
    "    appointment = merge_interval(appointment)\n",
    "\n",
    "    # interate and update\n",
    "    interval_ind = 0\n",
    "    interval = opening[interval_ind]\n",
    "    \n",
    "    for appoint in appointment:\n",
    "        if appoint[0] not in range(interval[0], interval[1]+1) or appoint[1] not in range(interval[0], interval[1]+1):\n",
    "            if interval_ind < len(intervals):   # not sure\n",
    "                interval_ind += 1\n",
    "                interval = opening[interval_ind]\n",
    "        if appoint[0] in range(interval[0], interval[1]+1) and appoint[1] in range(interval[0], interval[1]+1):\n",
    "            new_interval = subtract_two_intervals(interval, appoint)\n",
    "            #print(interval, ap new_interval)\n",
    "            available.append(new_interval) # TODO, sub repeated\n",
    "            interval = new_interval\n",
    "            \n",
    "    return available"
   ]
  },
  {
   "cell_type": "code",
   "execution_count": 232,
   "id": "8f5b6dc1-e220-49fd-a807-a2d2d4160b99",
   "metadata": {},
   "outputs": [
    {
     "data": {
      "text/plain": [
       "[[1, 3], [3, 5], []]"
      ]
     },
     "execution_count": 232,
     "metadata": {},
     "output_type": "execute_result"
    }
   ],
   "source": [
    "b = [[1, 3], [2,4]]\n",
    "b = b[:-1] + [[3,5], [3,0]]\n",
    "b = b[:-1] + [[]]\n",
    "\n",
    "b"
   ]
  },
  {
   "cell_type": "code",
   "execution_count": 36,
   "id": "6b81c95c-7d29-492b-a485-51e9c7036b5c",
   "metadata": {},
   "outputs": [],
   "source": [
    "def improved_get(occupied, intervals):\n",
    "    merged = []\n",
    "    interval_index = 0\n",
    "    for pair in occupied:\n",
    "        start = pair[0]\n",
    "        end = pair[1]\n",
    "        \n",
    "        # fetch the corresponding interval\n",
    "        interval = intervals[interval_index]\n",
    "        \n",
    "        if start in range(interval[0], interval[1]+1):\n",
    "            # merge and update the new interval start\n",
    "            merged.append([min(interval[0], start), max(interval[0], start)])\n",
    "            interval[0] = max(interval[0], start)\n",
    "        if end in range(interval[0], interval[1]+1):\n",
    "            merged.append([min(interval[1], end), max(interval[1], end)])\n",
    "        if interval_index < len(intervals) and start > interval[1]:\n",
    "            interval_index += 1\n",
    "    return merged"
   ]
  },
  {
   "cell_type": "code",
   "execution_count": 37,
   "id": "03d8cb5d-2cea-4a49-9719-e733eaef4e9e",
   "metadata": {},
   "outputs": [
    {
     "data": {
      "text/plain": [
       "[[1, 2], [5, 9], [10, 19], [20, 20]]"
      ]
     },
     "execution_count": 37,
     "metadata": {},
     "output_type": "execute_result"
    }
   ],
   "source": [
    "merged_res = improved_get(occupied, intervals)\n",
    "merged_res"
   ]
  },
  {
   "cell_type": "code",
   "execution_count": 19,
   "id": "17740b40-a68e-4ba5-b6e7-eef83bb2b820",
   "metadata": {},
   "outputs": [
    {
     "data": {
      "text/plain": [
       "[[1, 2], [5, 9], [11, 20]]"
      ]
     },
     "execution_count": 19,
     "metadata": {},
     "output_type": "execute_result"
    }
   ],
   "source": [
    "res = get_availability(occupied, intervals)\n",
    "res"
   ]
  },
  {
   "cell_type": "code",
   "execution_count": 11,
   "id": "4cbd35a6-697e-4f8e-9d6f-8a415a4fc712",
   "metadata": {},
   "outputs": [],
   "source": [
    "from typing import List\n",
    "def merge_intervals(intervals: List[List[int]]) -> List[List[int]]:\n",
    "    merged = []\n",
    "    for interval in intervals:\n",
    "        if not merged or merged[-1][1] < interval[0]:\n",
    "            merged.append(interval)\n",
    "        else:\n",
    "            merged[-1][1] = max(merged[-1][1], interval[1])\n",
    "    return merged"
   ]
  },
  {
   "cell_type": "code",
   "execution_count": null,
   "id": "9cb0d229-76d2-4148-8599-a1726df46a8a",
   "metadata": {},
   "outputs": [],
   "source": []
  },
  {
   "cell_type": "code",
   "execution_count": 12,
   "id": "0759cbda-07e6-49c0-acd0-79667ffe009d",
   "metadata": {},
   "outputs": [
    {
     "data": {
      "text/plain": [
       "[[0, 9], [10, 11], [12, 20]]"
      ]
     },
     "execution_count": 12,
     "metadata": {},
     "output_type": "execute_result"
    }
   ],
   "source": [
    "merged = merge_intervals(intervals)\n",
    "merged"
   ]
  },
  {
   "cell_type": "code",
   "execution_count": null,
   "id": "135718aa-58af-45fc-a980-1ad56cc7457a",
   "metadata": {},
   "outputs": [],
   "source": []
  }
 ],
 "metadata": {
  "kernelspec": {
   "display_name": "Python 3 (ipykernel)",
   "language": "python",
   "name": "python3"
  },
  "language_info": {
   "codemirror_mode": {
    "name": "ipython",
    "version": 3
   },
   "file_extension": ".py",
   "mimetype": "text/x-python",
   "name": "python",
   "nbconvert_exporter": "python",
   "pygments_lexer": "ipython3",
   "version": "3.10.5"
  }
 },
 "nbformat": 4,
 "nbformat_minor": 5
}
