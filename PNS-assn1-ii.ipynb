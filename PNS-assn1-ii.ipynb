{
 "cells": [
  {
   "cell_type": "code",
   "execution_count": 102,
   "id": "6ed52aa9-6476-470c-a344-8e6269758189",
   "metadata": {},
   "outputs": [],
   "source": [
    "import math\n",
    "# Erlang-B formula  \n",
    "def erlang_b(a, k):\n",
    "    '''\n",
    "    a: in Erlangs, Traffic intensity\n",
    "    k: number of line (channels)\n",
    "    '''\n",
    "    numerator = (a ** k) / math.factorial(k)\n",
    "    denominator = sum((a ** i) / math.factorial(i) for i in range(k + 1))\n",
    "    return numerator / denominator"
   ]
  },
  {
   "cell_type": "code",
   "execution_count": 103,
   "id": "1303879d-0a8a-4114-a42b-eea1de10de87",
   "metadata": {},
   "outputs": [],
   "source": [
    "call_arrival_rates = [2, 4, 9, 11, 10]  # calls per minute\n",
    "mean_call_duration = 2  # minutes\n",
    "total_channels = 48"
   ]
  },
  {
   "cell_type": "code",
   "execution_count": 132,
   "id": "b62d3141-c181-4633-9518-a7648a40abf8",
   "metadata": {},
   "outputs": [],
   "source": [
    "# return the channel range for each cell\n",
    "neighbors = {\n",
    "    1: [2, 3],\n",
    "    2: [1, 3],\n",
    "    3: [1, 2, 4, 5],\n",
    "    4: [3, 5],\n",
    "    5: [3, 4]\n",
    "}\n",
    "def channel_range(total_channels):\n",
    "    min_r = call_arrival_rates.copy()\n",
    "    channel_range = {}\n",
    "    for i in range(5):\n",
    "        channel_range[i+1] = [min_r[i], total_channels - sum([min_r[n-1] for n in neighbors[i+1]])]\n",
    "    return channel_range"
   ]
  },
  {
   "cell_type": "code",
   "execution_count": 133,
   "id": "6f168ad6-8aee-461c-899f-e12635255cb4",
   "metadata": {},
   "outputs": [],
   "source": [
    "# Function to calculate overall blocking probability  \n",
    "def overall_blocking_probability(channel_allocation):\n",
    "    total_blocking_prob = 0\n",
    "    traffic_intensities = call_arrival_rates * mean_call_duration\n",
    "    call_probabilities = [call_rate / sum(call_arrival_rates) for call_rate in call_arrival_rates]\n",
    "    \n",
    "    for i in range(len(channel_allocation)):\n",
    "        k_i = channel_allocation[i]\n",
    "        a_i = traffic_intensities[i]\n",
    "        if k_i > 0:\n",
    "            P_i = erlang_b(a_i, k_i)\n",
    "        else:\n",
    "            P_i = 1  # If no channels are allocated, all calls are blocked\n",
    "        total_blocking_prob += call_probabilities[i] * P_i\n",
    "    return total_blocking_prob"
   ]
  },
  {
   "cell_type": "code",
   "execution_count": 130,
   "id": "82944fba-48a8-46b1-a2f7-17458e8f4434",
   "metadata": {},
   "outputs": [],
   "source": [
    "# Function to determine the distribution of the 48 channels over the five cells that minimizes the overall blocking probability\n",
    "def optimize_by_fixed_channels(channel_distribution, per_cell_range, total_channels, set_target=False, target_prob = 0.01):\n",
    "    best_prob = overall_blocking_probability(channel_distribution)\n",
    "    # iterate based on the proportional contribution to the overall result\n",
    "    for k in range(per_cell_range[1][0],per_cell_range[1][1]):\n",
    "        for m in range(per_cell_range[2][0],per_cell_range[2][1]):\n",
    "            for i in range(per_cell_range[3][0],per_cell_range[3][1]):\n",
    "                for n in range(per_cell_range[5][0],per_cell_range[5][1]):\n",
    "                    for j in range(per_cell_range[4][0],per_cell_range[4][1]):\n",
    "                        new_distribution = [k, m, i, j, n]\n",
    "                        if (sum(new_distribution[:3])> total_channels or sum(new_distribution[2:]) > total_channels):\n",
    "                            break\n",
    "                        new_prob = overall_blocking_probability(new_distribution)  # calculate overall blocking probability\n",
    "                        if new_prob < best_prob:\n",
    "                            best_distribution = new_distribution\n",
    "                            best_prob = new_prob\n",
    "                        if set_target and best_prob < target_prob:\n",
    "                            return best_distribution, best_prob\n",
    "    return best_distribution, best_prob\n"
   ]
  },
  {
   "cell_type": "code",
   "execution_count": 134,
   "id": "b8edfa04-4f12-46fa-95e7-5b3071f8b925",
   "metadata": {},
   "outputs": [
    {
     "name": "stdout",
     "output_type": "stream",
     "text": [
      "Optimal channel distribution: [14, 19, 15, 17, 16]\n",
      "Minimum overall blocking probability: 0.0187\n"
     ]
    }
   ],
   "source": [
    "# Question 14 computation\n",
    "per_cell_range = channel_range(total_channels=48)\n",
    "channel_distribution = call_arrival_rates.copy()\n",
    "optimal_distribution, optimal_prob = optimize_by_fixed_channels(channel_distribution, per_cell_range, total_channels=48, set_target = False)\n",
    "print(f\"Optimal channel distribution: {optimal_distribution}\")\n",
    "print(f\"Minimum overall blocking probability: {optimal_prob:.4f}\")"
   ]
  },
  {
   "cell_type": "code",
   "execution_count": 141,
   "id": "cdd88350-d868-4820-bc17-da8c53e0a084",
   "metadata": {},
   "outputs": [],
   "source": [
    "# Question 15 computation\n",
    "target_prob = 0.01\n",
    "total_channels = 48\n",
    "for i in range(10):\n",
    "    total_channels = total_channels + i +1\n",
    "    per_cell_range = channel_range(total_channels)\n",
    "    channel_distribution = call_arrival_rates.copy()\n",
    "    optimal_distribution, optimal_prob = optimize_by_fixed_channels(channel_distribution, per_cell_range, total_channels, target_prob)\n",
    "    if optimal_prob < target_prob:\n",
    "        break\n"
   ]
  },
  {
   "cell_type": "code",
   "execution_count": 142,
   "id": "14c99b22-8116-4b6c-ade2-5a182d84233b",
   "metadata": {},
   "outputs": [
    {
     "name": "stdout",
     "output_type": "stream",
     "text": [
      "Optimal channel distribution: [5, 9, 16, 20, 18]\n",
      "Minimum overall blocking probability: 0.00969\n"
     ]
    }
   ],
   "source": [
    "print(f\"Optimal channel distribution: {optimal_distribution}\")\n",
    "print(f\"Minimum overall blocking probability: {optimal_prob:.5f}\")"
   ]
  },
  {
   "cell_type": "code",
   "execution_count": 143,
   "id": "06e50c11-943f-4c6d-8465-fe4265f384df",
   "metadata": {},
   "outputs": [
    {
     "name": "stdout",
     "output_type": "stream",
     "text": [
      "6\n"
     ]
    }
   ],
   "source": [
    "extra_channel = max(sum(optimal_distribution[:3]),sum(optimal_distribution[2:])) - 48\n",
    "print(extra_channel)"
   ]
  },
  {
   "cell_type": "code",
   "execution_count": null,
   "id": "b9ceb94a-2c0f-4ee7-917d-d277ef2cfdbc",
   "metadata": {},
   "outputs": [],
   "source": []
  }
 ],
 "metadata": {
  "kernelspec": {
   "display_name": "Python 3 (ipykernel)",
   "language": "python",
   "name": "python3"
  },
  "language_info": {
   "codemirror_mode": {
    "name": "ipython",
    "version": 3
   },
   "file_extension": ".py",
   "mimetype": "text/x-python",
   "name": "python",
   "nbconvert_exporter": "python",
   "pygments_lexer": "ipython3",
   "version": "3.10.5"
  }
 },
 "nbformat": 4,
 "nbformat_minor": 5
}
